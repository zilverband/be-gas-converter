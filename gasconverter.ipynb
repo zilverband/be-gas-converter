{
 "cells": [
  {
   "cell_type": "markdown",
   "metadata": {},
   "source": [
    "***Introduction***\n",
    "\n",
    "This document provides a detailed overview of the methods and calculations essential for converting raw sensor currents into accurate gas concentration readings using Alphasense sensors. As leaders in gas detection technology, Alphasense provides robust solutions that are crucial for a variety of applications ranging from environmental monitoring to industrial safety. The focus here is to elucidate the specific equations and algorithms that are fundamental to the sensor data interpretation process, enabling users to transform electrical signals emitted by the sensors into meaningful data.\n",
    "\n",
    "Contained within, you will find a comprehensive exploration of the mathematical models and conversion formulas as provided by Alphasense, designed to facilitate the accurate calculation of gas concentrations from the raw currents measured by the sensors. This documentation is intended to be a valuable resource for engineers, researchers, and professionals who rely on precise and dependable gas measurement techniques. Through an in-depth understanding of these conversion principles, users can ensure the effective application of Alphasense technology in their respective fields, thereby enhancing the reliability and accuracy of their gas detection systems."
   ]
  },
  {
   "cell_type": "markdown",
   "metadata": {},
   "source": [
    "***Terms definitions***\n",
    "\n",
    "- WEu = uncorrected raw WE output\n",
    "- AEu = uncorrected raw AE output\n",
    "- WEc = corrected WE output\n",
    "- WEe = WE electronic offset on the AFE or ISB\n",
    "- AEe = AE electronic offset on the AFE or ISB\n",
    "- WEo = WE sensor zero, i.e. the sensor WE output in zero air\n",
    "- AEo = AE sensor zero, i.e. the sensor AE output in zero air\n",
    "- WET = Total WE zero offset\n",
    "- AET = Total AE zero offset\n",
    "\n",
    "- nT = temperature dependent correction factor for algorithm 1, refer to Table 3 for values\n",
    "- kT = temperature dependent correction factor for algorithm 2, refer to Table 3 for values\n",
    "- k'T = temperature dependent correction factor for algorithm 3, refer to Table 3 for values\n",
    "- k''T = temperature dependent correction factor for algorithm 4, refer to Table 3 for values\n",
    "\n",
    "\n",
    "***Algorithms***\n",
    "\n",
    "- Algorithm 1\n",
    "    ```\n",
    "    WEc = (WEu - WEe) - nT * (AEu - AEe)\n",
    "    ```\n",
    "- Algorithm 2\n",
    "    ```\n",
    "    WEc = (WEu - WEe) - kT * (WEo / AEo) * (AEu - AEe)\n",
    "    ```\n",
    "- Algorithm 3\n",
    "    ```\n",
    "    WEc = (WEu - WEe) - (WEo - AEo) - k'T * (AEu - AEe)\n",
    "    ```\n",
    "- Algorithm 4\n",
    "    ```\n",
    "    WEc = (WEu - WEe) - WEo - k''T\n",
    "    ```"
   ]
  },
  {
   "cell_type": "markdown",
   "metadata": {},
   "source": [
    "***Sensorbee Sensors***\n",
    "\n",
    "- CO-B4\n",
    "    - Type: B\n",
    "    - Recommended Algorithm: Algorithm 1\n",
    "\n",
    "- H2S-B4\n",
    "    - Type: B\n",
    "    - Recommended Algorithm: 1\n",
    "\n",
    "- NO-B4\n",
    "    - Type: B\n",
    "    - Recommended Algorithm: 1\n",
    "\n",
    "- NO2-B43F\n",
    "    - Type: B\n",
    "    - Recommended Algorithm: 1\n",
    "\n",
    "- OX-B431\n",
    "    - Type: B\n",
    "    - Recommended Algorithm: 1\n",
    "\n",
    "- SO2-B4\n",
    "    - Type: B\n",
    "    - Recommended Algorithm: 4\n"
   ]
  },
  {
   "cell_type": "code",
   "execution_count": 10,
   "metadata": {
    "vscode": {
     "languageId": "javascript"
    }
   },
   "outputs": [
    {
     "ename": "SyntaxError",
     "evalue": "invalid syntax (3752340391.py, line 23)",
     "output_type": "error",
     "traceback": [
      "\u001b[1;36m  Cell \u001b[1;32mIn[10], line 23\u001b[1;36m\u001b[0m\n\u001b[1;33m    convertToTargetGas = (type, parameters) => {\u001b[0m\n\u001b[1;37m                                             ^\u001b[0m\n\u001b[1;31mSyntaxError\u001b[0m\u001b[1;31m:\u001b[0m invalid syntax\n"
     ]
    }
   ],
   "source": [
    "const gasTypes = {\n",
    "    'CO-B4': {\n",
    "        algo: 1\n",
    "    }, \n",
    "    'H2S-B4': {\n",
    "        algo: 1\n",
    "    }, \n",
    "    'NO-B4': {\n",
    "        algo: 1\n",
    "    },\n",
    "    'NO2-B43F': {\n",
    "        algo: 1\n",
    "    },\n",
    "    'O3-B431': {\n",
    "        algo: 1\n",
    "    },\n",
    "    'SO2-B4': {\n",
    "        algo: 4\n",
    "    }\n",
    "};\n",
    "\n",
    "\n",
    "const convertToTargetGas = (type, parameters) => {\n",
    "    const { algo } = gasTypes[type];\n",
    "    \n",
    "};\n",
    "\n",
    "\n"
   ]
  }
 ],
 "metadata": {
  "kernelspec": {
   "display_name": "Python 3",
   "language": "python",
   "name": "python3"
  },
  "language_info": {
   "codemirror_mode": {
    "name": "ipython",
    "version": 3
   },
   "file_extension": ".py",
   "mimetype": "text/x-python",
   "name": "python",
   "nbconvert_exporter": "python",
   "pygments_lexer": "ipython3",
   "version": "3.12.3"
  }
 },
 "nbformat": 4,
 "nbformat_minor": 2
}
